{
  "nbformat": 4,
  "nbformat_minor": 0,
  "metadata": {
    "kernelspec": {
      "display_name": "Python 3",
      "language": "python",
      "name": "python3"
    },
    "language_info": {
      "codemirror_mode": {
        "name": "ipython",
        "version": 3
      },
      "file_extension": ".py",
      "mimetype": "text/x-python",
      "name": "python",
      "nbconvert_exporter": "python",
      "pygments_lexer": "ipython3",
      "version": "3.7.6"
    },
    "colab": {
      "name": "02_nb_studentpredict.ipynb",
      "provenance": [],
      "toc_visible": true,
      "include_colab_link": true
    }
  },
  "cells": [
    {
      "cell_type": "markdown",
      "metadata": {
        "id": "view-in-github",
        "colab_type": "text"
      },
      "source": [
        "<a href=\"https://colab.research.google.com/github/ariflaksito/naive-bayes/blob/master/02_nb_studentpredict.ipynb\" target=\"_parent\"><img src=\"https://colab.research.google.com/assets/colab-badge.svg\" alt=\"Open In Colab\"/></a>"
      ]
    },
    {
      "cell_type": "markdown",
      "metadata": {
        "id": "iqhxhLgk2IPN",
        "colab_type": "text"
      },
      "source": [
        "# Naive Bayes\n",
        "Prediksi mahasiswa lulus tepat waktu/tidak"
      ]
    },
    {
      "cell_type": "markdown",
      "metadata": {
        "id": "eOiLnaFt2IPQ",
        "colab_type": "text"
      },
      "source": [
        "## Proses Cleaning Data"
      ]
    },
    {
      "cell_type": "code",
      "metadata": {
        "id": "yXy739p_2IPS",
        "colab_type": "code",
        "colab": {}
      },
      "source": [
        "# import library\n",
        "import pandas as pd\n",
        "import numpy as np"
      ],
      "execution_count": 0,
      "outputs": []
    },
    {
      "cell_type": "code",
      "metadata": {
        "id": "LXQaM0XI2IPj",
        "colab_type": "code",
        "colab": {}
      },
      "source": [
        "# Membaca data dari file excel\n",
        "data = pd.read_excel('Data-5K-shared.xlsx')"
      ],
      "execution_count": 0,
      "outputs": []
    },
    {
      "cell_type": "code",
      "metadata": {
        "id": "-YsKYjQv2IPw",
        "colab_type": "code",
        "colab": {
          "base_uri": "https://localhost:8080/",
          "height": 204
        },
        "outputId": "03587edd-7307-46d7-ec58-4f2c20a873cd"
      },
      "source": [
        "data.head()"
      ],
      "execution_count": 3,
      "outputs": [
        {
          "output_type": "execute_result",
          "data": {
            "text/html": [
              "<div>\n",
              "<style scoped>\n",
              "    .dataframe tbody tr th:only-of-type {\n",
              "        vertical-align: middle;\n",
              "    }\n",
              "\n",
              "    .dataframe tbody tr th {\n",
              "        vertical-align: top;\n",
              "    }\n",
              "\n",
              "    .dataframe thead th {\n",
              "        text-align: right;\n",
              "    }\n",
              "</style>\n",
              "<table border=\"1\" class=\"dataframe\">\n",
              "  <thead>\n",
              "    <tr style=\"text-align: right;\">\n",
              "      <th></th>\n",
              "      <th>ANGKATAN</th>\n",
              "      <th>JK</th>\n",
              "      <th>TGLAHIR</th>\n",
              "      <th>TGLULUS</th>\n",
              "      <th>IPK1</th>\n",
              "      <th>IPK2</th>\n",
              "      <th>IPK3</th>\n",
              "      <th>IPK4</th>\n",
              "      <th>SKS</th>\n",
              "    </tr>\n",
              "  </thead>\n",
              "  <tbody>\n",
              "    <tr>\n",
              "      <th>0</th>\n",
              "      <td>2013</td>\n",
              "      <td>L</td>\n",
              "      <td>1993-10-14 00:00:00</td>\n",
              "      <td>2016-09-26</td>\n",
              "      <td>3.500000</td>\n",
              "      <td>3.833333</td>\n",
              "      <td>4.000000</td>\n",
              "      <td>3.500000</td>\n",
              "      <td>144</td>\n",
              "    </tr>\n",
              "    <tr>\n",
              "      <th>1</th>\n",
              "      <td>2013</td>\n",
              "      <td>L</td>\n",
              "      <td>1995-05-06 00:00:00</td>\n",
              "      <td>2017-03-25</td>\n",
              "      <td>3.500000</td>\n",
              "      <td>3.750000</td>\n",
              "      <td>3.333333</td>\n",
              "      <td>3.250000</td>\n",
              "      <td>144</td>\n",
              "    </tr>\n",
              "    <tr>\n",
              "      <th>2</th>\n",
              "      <td>2013</td>\n",
              "      <td>L</td>\n",
              "      <td>1995-01-31 00:00:00</td>\n",
              "      <td>2016-09-26</td>\n",
              "      <td>3.166667</td>\n",
              "      <td>3.083333</td>\n",
              "      <td>3.333333</td>\n",
              "      <td>3.250000</td>\n",
              "      <td>144</td>\n",
              "    </tr>\n",
              "    <tr>\n",
              "      <th>3</th>\n",
              "      <td>2013</td>\n",
              "      <td>P</td>\n",
              "      <td>1996-01-22 00:00:00</td>\n",
              "      <td>2016-12-24</td>\n",
              "      <td>3.500000</td>\n",
              "      <td>3.250000</td>\n",
              "      <td>3.500000</td>\n",
              "      <td>3.416667</td>\n",
              "      <td>144</td>\n",
              "    </tr>\n",
              "    <tr>\n",
              "      <th>4</th>\n",
              "      <td>2013</td>\n",
              "      <td>L</td>\n",
              "      <td>1995-06-15 00:00:00</td>\n",
              "      <td>NaT</td>\n",
              "      <td>3.083333</td>\n",
              "      <td>3.083333</td>\n",
              "      <td>3.000000</td>\n",
              "      <td>2.000000</td>\n",
              "      <td>126</td>\n",
              "    </tr>\n",
              "  </tbody>\n",
              "</table>\n",
              "</div>"
            ],
            "text/plain": [
              "   ANGKATAN JK              TGLAHIR  ...      IPK3      IPK4  SKS\n",
              "0      2013  L  1993-10-14 00:00:00  ...  4.000000  3.500000  144\n",
              "1      2013  L  1995-05-06 00:00:00  ...  3.333333  3.250000  144\n",
              "2      2013  L  1995-01-31 00:00:00  ...  3.333333  3.250000  144\n",
              "3      2013  P  1996-01-22 00:00:00  ...  3.500000  3.416667  144\n",
              "4      2013  L  1995-06-15 00:00:00  ...  3.000000  2.000000  126\n",
              "\n",
              "[5 rows x 9 columns]"
            ]
          },
          "metadata": {
            "tags": []
          },
          "execution_count": 3
        }
      ]
    },
    {
      "cell_type": "code",
      "metadata": {
        "id": "JIQyWbEw2IQC",
        "colab_type": "code",
        "colab": {
          "base_uri": "https://localhost:8080/",
          "height": 34
        },
        "outputId": "f9f4f47a-c80d-404b-c627-adf0175c1d65"
      },
      "source": [
        "data.shape"
      ],
      "execution_count": 4,
      "outputs": [
        {
          "output_type": "execute_result",
          "data": {
            "text/plain": [
              "(5125, 9)"
            ]
          },
          "metadata": {
            "tags": []
          },
          "execution_count": 4
        }
      ]
    },
    {
      "cell_type": "code",
      "metadata": {
        "id": "mZYS5lnG2IQL",
        "colab_type": "code",
        "colab": {
          "base_uri": "https://localhost:8080/",
          "height": 187
        },
        "outputId": "9adb7e4f-d727-4ea4-9f45-dea6a0aedfac"
      },
      "source": [
        "data.dtypes"
      ],
      "execution_count": 5,
      "outputs": [
        {
          "output_type": "execute_result",
          "data": {
            "text/plain": [
              "ANGKATAN             int64\n",
              "JK                  object\n",
              "TGLAHIR             object\n",
              "TGLULUS     datetime64[ns]\n",
              "IPK1               float64\n",
              "IPK2               float64\n",
              "IPK3               float64\n",
              "IPK4               float64\n",
              "SKS                  int64\n",
              "dtype: object"
            ]
          },
          "metadata": {
            "tags": []
          },
          "execution_count": 5
        }
      ]
    },
    {
      "cell_type": "code",
      "metadata": {
        "id": "Hog4Hll_2IQV",
        "colab_type": "code",
        "colab": {
          "base_uri": "https://localhost:8080/",
          "height": 419
        },
        "outputId": "9b0ee423-8406-4fbb-f707-f8eef16c6aa4"
      },
      "source": [
        "# Melihat data yang tglulus kosong\n",
        "# Diasumsikan sampai saat ini tidak lulus\n",
        "data[data.TGLULUS.isnull()]"
      ],
      "execution_count": 6,
      "outputs": [
        {
          "output_type": "execute_result",
          "data": {
            "text/html": [
              "<div>\n",
              "<style scoped>\n",
              "    .dataframe tbody tr th:only-of-type {\n",
              "        vertical-align: middle;\n",
              "    }\n",
              "\n",
              "    .dataframe tbody tr th {\n",
              "        vertical-align: top;\n",
              "    }\n",
              "\n",
              "    .dataframe thead th {\n",
              "        text-align: right;\n",
              "    }\n",
              "</style>\n",
              "<table border=\"1\" class=\"dataframe\">\n",
              "  <thead>\n",
              "    <tr style=\"text-align: right;\">\n",
              "      <th></th>\n",
              "      <th>ANGKATAN</th>\n",
              "      <th>JK</th>\n",
              "      <th>TGLAHIR</th>\n",
              "      <th>TGLULUS</th>\n",
              "      <th>IPK1</th>\n",
              "      <th>IPK2</th>\n",
              "      <th>IPK3</th>\n",
              "      <th>IPK4</th>\n",
              "      <th>SKS</th>\n",
              "    </tr>\n",
              "  </thead>\n",
              "  <tbody>\n",
              "    <tr>\n",
              "      <th>4</th>\n",
              "      <td>2013</td>\n",
              "      <td>L</td>\n",
              "      <td>1995-06-15 00:00:00</td>\n",
              "      <td>NaT</td>\n",
              "      <td>3.083333</td>\n",
              "      <td>3.083333</td>\n",
              "      <td>3.000000</td>\n",
              "      <td>2.000000</td>\n",
              "      <td>126</td>\n",
              "    </tr>\n",
              "    <tr>\n",
              "      <th>7</th>\n",
              "      <td>2013</td>\n",
              "      <td>L</td>\n",
              "      <td>2013-02-23 00:00:00</td>\n",
              "      <td>NaT</td>\n",
              "      <td>3.333333</td>\n",
              "      <td>3.416667</td>\n",
              "      <td>3.750000</td>\n",
              "      <td>3.333333</td>\n",
              "      <td>146</td>\n",
              "    </tr>\n",
              "    <tr>\n",
              "      <th>8</th>\n",
              "      <td>2013</td>\n",
              "      <td>L</td>\n",
              "      <td>1993-09-24 00:00:00</td>\n",
              "      <td>NaT</td>\n",
              "      <td>3.333333</td>\n",
              "      <td>3.250000</td>\n",
              "      <td>3.416667</td>\n",
              "      <td>3.166667</td>\n",
              "      <td>140</td>\n",
              "    </tr>\n",
              "    <tr>\n",
              "      <th>11</th>\n",
              "      <td>2013</td>\n",
              "      <td>L</td>\n",
              "      <td>1994-11-15 00:00:00</td>\n",
              "      <td>NaT</td>\n",
              "      <td>3.083333</td>\n",
              "      <td>3.083333</td>\n",
              "      <td>3.166667</td>\n",
              "      <td>2.833333</td>\n",
              "      <td>138</td>\n",
              "    </tr>\n",
              "    <tr>\n",
              "      <th>12</th>\n",
              "      <td>2013</td>\n",
              "      <td>L</td>\n",
              "      <td>1993-10-27 00:00:00</td>\n",
              "      <td>NaT</td>\n",
              "      <td>3.166667</td>\n",
              "      <td>3.000000</td>\n",
              "      <td>3.416667</td>\n",
              "      <td>0.000000</td>\n",
              "      <td>72</td>\n",
              "    </tr>\n",
              "    <tr>\n",
              "      <th>...</th>\n",
              "      <td>...</td>\n",
              "      <td>...</td>\n",
              "      <td>...</td>\n",
              "      <td>...</td>\n",
              "      <td>...</td>\n",
              "      <td>...</td>\n",
              "      <td>...</td>\n",
              "      <td>...</td>\n",
              "      <td>...</td>\n",
              "    </tr>\n",
              "    <tr>\n",
              "      <th>5109</th>\n",
              "      <td>2005</td>\n",
              "      <td>L</td>\n",
              "      <td>1985-07-06 00:00:00</td>\n",
              "      <td>NaT</td>\n",
              "      <td>2.833333</td>\n",
              "      <td>3.428571</td>\n",
              "      <td>2.416667</td>\n",
              "      <td>0.000000</td>\n",
              "      <td>140</td>\n",
              "    </tr>\n",
              "    <tr>\n",
              "      <th>5113</th>\n",
              "      <td>2005</td>\n",
              "      <td>L</td>\n",
              "      <td>1987-12-17 00:00:00</td>\n",
              "      <td>NaT</td>\n",
              "      <td>0.416667</td>\n",
              "      <td>1.571429</td>\n",
              "      <td>0.000000</td>\n",
              "      <td>0.000000</td>\n",
              "      <td>38</td>\n",
              "    </tr>\n",
              "    <tr>\n",
              "      <th>5114</th>\n",
              "      <td>2005</td>\n",
              "      <td>P</td>\n",
              "      <td>1987-09-03 00:00:00</td>\n",
              "      <td>NaT</td>\n",
              "      <td>3.750000</td>\n",
              "      <td>1.642857</td>\n",
              "      <td>0.000000</td>\n",
              "      <td>0.000000</td>\n",
              "      <td>42</td>\n",
              "    </tr>\n",
              "    <tr>\n",
              "      <th>5115</th>\n",
              "      <td>2005</td>\n",
              "      <td>P</td>\n",
              "      <td>1987-05-10 00:00:00</td>\n",
              "      <td>NaT</td>\n",
              "      <td>3.333333</td>\n",
              "      <td>3.142857</td>\n",
              "      <td>2.333333</td>\n",
              "      <td>0.000000</td>\n",
              "      <td>138</td>\n",
              "    </tr>\n",
              "    <tr>\n",
              "      <th>5124</th>\n",
              "      <td>2005</td>\n",
              "      <td>L</td>\n",
              "      <td>1983-04-20 00:00:00</td>\n",
              "      <td>NaT</td>\n",
              "      <td>0.166667</td>\n",
              "      <td>0.000000</td>\n",
              "      <td>0.000000</td>\n",
              "      <td>0.000000</td>\n",
              "      <td>4</td>\n",
              "    </tr>\n",
              "  </tbody>\n",
              "</table>\n",
              "<p>1458 rows × 9 columns</p>\n",
              "</div>"
            ],
            "text/plain": [
              "      ANGKATAN JK              TGLAHIR  ...      IPK3      IPK4  SKS\n",
              "4         2013  L  1995-06-15 00:00:00  ...  3.000000  2.000000  126\n",
              "7         2013  L  2013-02-23 00:00:00  ...  3.750000  3.333333  146\n",
              "8         2013  L  1993-09-24 00:00:00  ...  3.416667  3.166667  140\n",
              "11        2013  L  1994-11-15 00:00:00  ...  3.166667  2.833333  138\n",
              "12        2013  L  1993-10-27 00:00:00  ...  3.416667  0.000000   72\n",
              "...        ... ..                  ...  ...       ...       ...  ...\n",
              "5109      2005  L  1985-07-06 00:00:00  ...  2.416667  0.000000  140\n",
              "5113      2005  L  1987-12-17 00:00:00  ...  0.000000  0.000000   38\n",
              "5114      2005  P  1987-09-03 00:00:00  ...  0.000000  0.000000   42\n",
              "5115      2005  P  1987-05-10 00:00:00  ...  2.333333  0.000000  138\n",
              "5124      2005  L  1983-04-20 00:00:00  ...  0.000000  0.000000    4\n",
              "\n",
              "[1458 rows x 9 columns]"
            ]
          },
          "metadata": {
            "tags": []
          },
          "execution_count": 6
        }
      ]
    },
    {
      "cell_type": "code",
      "metadata": {
        "id": "tCL8T4Yu2IQd",
        "colab_type": "code",
        "colab": {}
      },
      "source": [
        "# Gunakan data dengan tglulus tidak kosong\n",
        "clean_data = data[data.TGLULUS.notnull()]"
      ],
      "execution_count": 0,
      "outputs": []
    },
    {
      "cell_type": "code",
      "metadata": {
        "id": "pJDaAS4q2IQm",
        "colab_type": "code",
        "colab": {
          "base_uri": "https://localhost:8080/",
          "height": 34
        },
        "outputId": "907df7f7-307f-47e1-f414-b84bc8c3586c"
      },
      "source": [
        "clean_data.shape"
      ],
      "execution_count": 8,
      "outputs": [
        {
          "output_type": "execute_result",
          "data": {
            "text/plain": [
              "(3667, 9)"
            ]
          },
          "metadata": {
            "tags": []
          },
          "execution_count": 8
        }
      ]
    },
    {
      "cell_type": "code",
      "metadata": {
        "id": "L-OkzCVo2IQ0",
        "colab_type": "code",
        "colab": {
          "base_uri": "https://localhost:8080/",
          "height": 49
        },
        "outputId": "adfcc6b5-a283-459f-e179-a05de6eebe62"
      },
      "source": [
        "# Cek juga data angkatan yang kosong\n",
        "clean_data[clean_data.ANGKATAN.isnull()]"
      ],
      "execution_count": 9,
      "outputs": [
        {
          "output_type": "execute_result",
          "data": {
            "text/html": [
              "<div>\n",
              "<style scoped>\n",
              "    .dataframe tbody tr th:only-of-type {\n",
              "        vertical-align: middle;\n",
              "    }\n",
              "\n",
              "    .dataframe tbody tr th {\n",
              "        vertical-align: top;\n",
              "    }\n",
              "\n",
              "    .dataframe thead th {\n",
              "        text-align: right;\n",
              "    }\n",
              "</style>\n",
              "<table border=\"1\" class=\"dataframe\">\n",
              "  <thead>\n",
              "    <tr style=\"text-align: right;\">\n",
              "      <th></th>\n",
              "      <th>ANGKATAN</th>\n",
              "      <th>JK</th>\n",
              "      <th>TGLAHIR</th>\n",
              "      <th>TGLULUS</th>\n",
              "      <th>IPK1</th>\n",
              "      <th>IPK2</th>\n",
              "      <th>IPK3</th>\n",
              "      <th>IPK4</th>\n",
              "      <th>SKS</th>\n",
              "    </tr>\n",
              "  </thead>\n",
              "  <tbody>\n",
              "  </tbody>\n",
              "</table>\n",
              "</div>"
            ],
            "text/plain": [
              "Empty DataFrame\n",
              "Columns: [ANGKATAN, JK, TGLAHIR, TGLULUS, IPK1, IPK2, IPK3, IPK4, SKS]\n",
              "Index: []"
            ]
          },
          "metadata": {
            "tags": []
          },
          "execution_count": 9
        }
      ]
    },
    {
      "cell_type": "code",
      "metadata": {
        "id": "ziw7OCmW2IQ_",
        "colab_type": "code",
        "colab": {}
      },
      "source": [
        "# Gunakan data dengan angkatan tidak kosong\n",
        "fix_data = clean_data[clean_data.ANGKATAN.notnull()]"
      ],
      "execution_count": 0,
      "outputs": []
    },
    {
      "cell_type": "code",
      "metadata": {
        "id": "N9TqU4M92IRp",
        "colab_type": "code",
        "colab": {}
      },
      "source": [
        "# Tambah atribute Tglmulai diambil dari angkatan mhs, diasumsikan 1 agustus\n",
        "fix_data[\"TGLMULAI\"] = pd.to_datetime(dict(year=fix_data.ANGKATAN, month=8, day=1))"
      ],
      "execution_count": 0,
      "outputs": []
    },
    {
      "cell_type": "code",
      "metadata": {
        "id": "ZyYAgPkr2IR5",
        "colab_type": "code",
        "colab": {
          "base_uri": "https://localhost:8080/",
          "height": 204
        },
        "outputId": "edc48d5e-65ff-46ab-a14b-5d8be22a4b69"
      },
      "source": [
        "fix_data.head()"
      ],
      "execution_count": 12,
      "outputs": [
        {
          "output_type": "execute_result",
          "data": {
            "text/html": [
              "<div>\n",
              "<style scoped>\n",
              "    .dataframe tbody tr th:only-of-type {\n",
              "        vertical-align: middle;\n",
              "    }\n",
              "\n",
              "    .dataframe tbody tr th {\n",
              "        vertical-align: top;\n",
              "    }\n",
              "\n",
              "    .dataframe thead th {\n",
              "        text-align: right;\n",
              "    }\n",
              "</style>\n",
              "<table border=\"1\" class=\"dataframe\">\n",
              "  <thead>\n",
              "    <tr style=\"text-align: right;\">\n",
              "      <th></th>\n",
              "      <th>ANGKATAN</th>\n",
              "      <th>JK</th>\n",
              "      <th>TGLAHIR</th>\n",
              "      <th>TGLULUS</th>\n",
              "      <th>IPK1</th>\n",
              "      <th>IPK2</th>\n",
              "      <th>IPK3</th>\n",
              "      <th>IPK4</th>\n",
              "      <th>SKS</th>\n",
              "      <th>TGLMULAI</th>\n",
              "    </tr>\n",
              "  </thead>\n",
              "  <tbody>\n",
              "    <tr>\n",
              "      <th>0</th>\n",
              "      <td>2013</td>\n",
              "      <td>L</td>\n",
              "      <td>1993-10-14 00:00:00</td>\n",
              "      <td>2016-09-26</td>\n",
              "      <td>3.500000</td>\n",
              "      <td>3.833333</td>\n",
              "      <td>4.000000</td>\n",
              "      <td>3.500000</td>\n",
              "      <td>144</td>\n",
              "      <td>2013-08-01</td>\n",
              "    </tr>\n",
              "    <tr>\n",
              "      <th>1</th>\n",
              "      <td>2013</td>\n",
              "      <td>L</td>\n",
              "      <td>1995-05-06 00:00:00</td>\n",
              "      <td>2017-03-25</td>\n",
              "      <td>3.500000</td>\n",
              "      <td>3.750000</td>\n",
              "      <td>3.333333</td>\n",
              "      <td>3.250000</td>\n",
              "      <td>144</td>\n",
              "      <td>2013-08-01</td>\n",
              "    </tr>\n",
              "    <tr>\n",
              "      <th>2</th>\n",
              "      <td>2013</td>\n",
              "      <td>L</td>\n",
              "      <td>1995-01-31 00:00:00</td>\n",
              "      <td>2016-09-26</td>\n",
              "      <td>3.166667</td>\n",
              "      <td>3.083333</td>\n",
              "      <td>3.333333</td>\n",
              "      <td>3.250000</td>\n",
              "      <td>144</td>\n",
              "      <td>2013-08-01</td>\n",
              "    </tr>\n",
              "    <tr>\n",
              "      <th>3</th>\n",
              "      <td>2013</td>\n",
              "      <td>P</td>\n",
              "      <td>1996-01-22 00:00:00</td>\n",
              "      <td>2016-12-24</td>\n",
              "      <td>3.500000</td>\n",
              "      <td>3.250000</td>\n",
              "      <td>3.500000</td>\n",
              "      <td>3.416667</td>\n",
              "      <td>144</td>\n",
              "      <td>2013-08-01</td>\n",
              "    </tr>\n",
              "    <tr>\n",
              "      <th>5</th>\n",
              "      <td>2013</td>\n",
              "      <td>L</td>\n",
              "      <td>1994-12-11 00:00:00</td>\n",
              "      <td>2017-03-25</td>\n",
              "      <td>3.250000</td>\n",
              "      <td>3.166667</td>\n",
              "      <td>3.250000</td>\n",
              "      <td>3.166667</td>\n",
              "      <td>144</td>\n",
              "      <td>2013-08-01</td>\n",
              "    </tr>\n",
              "  </tbody>\n",
              "</table>\n",
              "</div>"
            ],
            "text/plain": [
              "   ANGKATAN JK              TGLAHIR  ...      IPK4  SKS   TGLMULAI\n",
              "0      2013  L  1993-10-14 00:00:00  ...  3.500000  144 2013-08-01\n",
              "1      2013  L  1995-05-06 00:00:00  ...  3.250000  144 2013-08-01\n",
              "2      2013  L  1995-01-31 00:00:00  ...  3.250000  144 2013-08-01\n",
              "3      2013  P  1996-01-22 00:00:00  ...  3.416667  144 2013-08-01\n",
              "5      2013  L  1994-12-11 00:00:00  ...  3.166667  144 2013-08-01\n",
              "\n",
              "[5 rows x 10 columns]"
            ]
          },
          "metadata": {
            "tags": []
          },
          "execution_count": 12
        }
      ]
    },
    {
      "cell_type": "code",
      "metadata": {
        "id": "tKRuZMmP2ISC",
        "colab_type": "code",
        "colab": {}
      },
      "source": [
        "# Hitung masa studi(bulan)\n",
        "fix_data['MSTUDI'] = (fix_data['TGLULUS']-fix_data['TGLMULAI'])/np.timedelta64(1, 'M')"
      ],
      "execution_count": 0,
      "outputs": []
    },
    {
      "cell_type": "code",
      "metadata": {
        "id": "yuBJdNza2IS3",
        "colab_type": "code",
        "colab": {
          "base_uri": "https://localhost:8080/",
          "height": 419
        },
        "outputId": "03c5df6b-f6a5-4ef9-c5aa-a7f281e822f8"
      },
      "source": [
        "fix_data.head(3668)"
      ],
      "execution_count": 14,
      "outputs": [
        {
          "output_type": "execute_result",
          "data": {
            "text/html": [
              "<div>\n",
              "<style scoped>\n",
              "    .dataframe tbody tr th:only-of-type {\n",
              "        vertical-align: middle;\n",
              "    }\n",
              "\n",
              "    .dataframe tbody tr th {\n",
              "        vertical-align: top;\n",
              "    }\n",
              "\n",
              "    .dataframe thead th {\n",
              "        text-align: right;\n",
              "    }\n",
              "</style>\n",
              "<table border=\"1\" class=\"dataframe\">\n",
              "  <thead>\n",
              "    <tr style=\"text-align: right;\">\n",
              "      <th></th>\n",
              "      <th>ANGKATAN</th>\n",
              "      <th>JK</th>\n",
              "      <th>TGLAHIR</th>\n",
              "      <th>TGLULUS</th>\n",
              "      <th>IPK1</th>\n",
              "      <th>IPK2</th>\n",
              "      <th>IPK3</th>\n",
              "      <th>IPK4</th>\n",
              "      <th>SKS</th>\n",
              "      <th>TGLMULAI</th>\n",
              "      <th>MSTUDI</th>\n",
              "    </tr>\n",
              "  </thead>\n",
              "  <tbody>\n",
              "    <tr>\n",
              "      <th>0</th>\n",
              "      <td>2013</td>\n",
              "      <td>L</td>\n",
              "      <td>1993-10-14 00:00:00</td>\n",
              "      <td>2016-09-26</td>\n",
              "      <td>3.500000</td>\n",
              "      <td>3.833333</td>\n",
              "      <td>4.000000</td>\n",
              "      <td>3.500000</td>\n",
              "      <td>144</td>\n",
              "      <td>2013-08-01</td>\n",
              "      <td>37.848826</td>\n",
              "    </tr>\n",
              "    <tr>\n",
              "      <th>1</th>\n",
              "      <td>2013</td>\n",
              "      <td>L</td>\n",
              "      <td>1995-05-06 00:00:00</td>\n",
              "      <td>2017-03-25</td>\n",
              "      <td>3.500000</td>\n",
              "      <td>3.750000</td>\n",
              "      <td>3.333333</td>\n",
              "      <td>3.250000</td>\n",
              "      <td>144</td>\n",
              "      <td>2013-08-01</td>\n",
              "      <td>43.762706</td>\n",
              "    </tr>\n",
              "    <tr>\n",
              "      <th>2</th>\n",
              "      <td>2013</td>\n",
              "      <td>L</td>\n",
              "      <td>1995-01-31 00:00:00</td>\n",
              "      <td>2016-09-26</td>\n",
              "      <td>3.166667</td>\n",
              "      <td>3.083333</td>\n",
              "      <td>3.333333</td>\n",
              "      <td>3.250000</td>\n",
              "      <td>144</td>\n",
              "      <td>2013-08-01</td>\n",
              "      <td>37.848826</td>\n",
              "    </tr>\n",
              "    <tr>\n",
              "      <th>3</th>\n",
              "      <td>2013</td>\n",
              "      <td>P</td>\n",
              "      <td>1996-01-22 00:00:00</td>\n",
              "      <td>2016-12-24</td>\n",
              "      <td>3.500000</td>\n",
              "      <td>3.250000</td>\n",
              "      <td>3.500000</td>\n",
              "      <td>3.416667</td>\n",
              "      <td>144</td>\n",
              "      <td>2013-08-01</td>\n",
              "      <td>40.772911</td>\n",
              "    </tr>\n",
              "    <tr>\n",
              "      <th>5</th>\n",
              "      <td>2013</td>\n",
              "      <td>L</td>\n",
              "      <td>1994-12-11 00:00:00</td>\n",
              "      <td>2017-03-25</td>\n",
              "      <td>3.250000</td>\n",
              "      <td>3.166667</td>\n",
              "      <td>3.250000</td>\n",
              "      <td>3.166667</td>\n",
              "      <td>144</td>\n",
              "      <td>2013-08-01</td>\n",
              "      <td>43.762706</td>\n",
              "    </tr>\n",
              "    <tr>\n",
              "      <th>...</th>\n",
              "      <td>...</td>\n",
              "      <td>...</td>\n",
              "      <td>...</td>\n",
              "      <td>...</td>\n",
              "      <td>...</td>\n",
              "      <td>...</td>\n",
              "      <td>...</td>\n",
              "      <td>...</td>\n",
              "      <td>...</td>\n",
              "      <td>...</td>\n",
              "      <td>...</td>\n",
              "    </tr>\n",
              "    <tr>\n",
              "      <th>5119</th>\n",
              "      <td>2005</td>\n",
              "      <td>P</td>\n",
              "      <td>1986-12-16 00:00:00</td>\n",
              "      <td>2009-03-25</td>\n",
              "      <td>3.666667</td>\n",
              "      <td>3.357143</td>\n",
              "      <td>3.384615</td>\n",
              "      <td>0.000000</td>\n",
              "      <td>146</td>\n",
              "      <td>2005-08-01</td>\n",
              "      <td>43.762706</td>\n",
              "    </tr>\n",
              "    <tr>\n",
              "      <th>5120</th>\n",
              "      <td>2005</td>\n",
              "      <td>P</td>\n",
              "      <td>1987-03-03 00:00:00</td>\n",
              "      <td>2009-09-12</td>\n",
              "      <td>3.083333</td>\n",
              "      <td>3.428571</td>\n",
              "      <td>2.923077</td>\n",
              "      <td>0.000000</td>\n",
              "      <td>144</td>\n",
              "      <td>2005-08-01</td>\n",
              "      <td>49.380891</td>\n",
              "    </tr>\n",
              "    <tr>\n",
              "      <th>5121</th>\n",
              "      <td>2005</td>\n",
              "      <td>L</td>\n",
              "      <td>1987-02-20 00:00:00</td>\n",
              "      <td>2013-03-25</td>\n",
              "      <td>2.333333</td>\n",
              "      <td>2.500000</td>\n",
              "      <td>1.454545</td>\n",
              "      <td>0.000000</td>\n",
              "      <td>144</td>\n",
              "      <td>2005-08-01</td>\n",
              "      <td>91.763691</td>\n",
              "    </tr>\n",
              "    <tr>\n",
              "      <th>5122</th>\n",
              "      <td>2005</td>\n",
              "      <td>L</td>\n",
              "      <td>1986-02-13 00:00:00</td>\n",
              "      <td>2011-03-25</td>\n",
              "      <td>2.500000</td>\n",
              "      <td>2.642857</td>\n",
              "      <td>2.153846</td>\n",
              "      <td>0.000000</td>\n",
              "      <td>144</td>\n",
              "      <td>2005-08-01</td>\n",
              "      <td>67.746771</td>\n",
              "    </tr>\n",
              "    <tr>\n",
              "      <th>5123</th>\n",
              "      <td>2005</td>\n",
              "      <td>L</td>\n",
              "      <td>1987-05-14 00:00:00</td>\n",
              "      <td>2009-09-12</td>\n",
              "      <td>3.166667</td>\n",
              "      <td>3.214286</td>\n",
              "      <td>3.083333</td>\n",
              "      <td>0.000000</td>\n",
              "      <td>148</td>\n",
              "      <td>2005-08-01</td>\n",
              "      <td>49.380891</td>\n",
              "    </tr>\n",
              "  </tbody>\n",
              "</table>\n",
              "<p>3667 rows × 11 columns</p>\n",
              "</div>"
            ],
            "text/plain": [
              "      ANGKATAN JK              TGLAHIR  ...  SKS   TGLMULAI     MSTUDI\n",
              "0         2013  L  1993-10-14 00:00:00  ...  144 2013-08-01  37.848826\n",
              "1         2013  L  1995-05-06 00:00:00  ...  144 2013-08-01  43.762706\n",
              "2         2013  L  1995-01-31 00:00:00  ...  144 2013-08-01  37.848826\n",
              "3         2013  P  1996-01-22 00:00:00  ...  144 2013-08-01  40.772911\n",
              "5         2013  L  1994-12-11 00:00:00  ...  144 2013-08-01  43.762706\n",
              "...        ... ..                  ...  ...  ...        ...        ...\n",
              "5119      2005  P  1986-12-16 00:00:00  ...  146 2005-08-01  43.762706\n",
              "5120      2005  P  1987-03-03 00:00:00  ...  144 2005-08-01  49.380891\n",
              "5121      2005  L  1987-02-20 00:00:00  ...  144 2005-08-01  91.763691\n",
              "5122      2005  L  1986-02-13 00:00:00  ...  144 2005-08-01  67.746771\n",
              "5123      2005  L  1987-05-14 00:00:00  ...  148 2005-08-01  49.380891\n",
              "\n",
              "[3667 rows x 11 columns]"
            ]
          },
          "metadata": {
            "tags": []
          },
          "execution_count": 14
        }
      ]
    },
    {
      "cell_type": "code",
      "metadata": {
        "id": "VNoMbgN52IS9",
        "colab_type": "code",
        "colab": {}
      },
      "source": [
        "# Tambat atribut status dimana <= 48 bulan = lulus tepat waktu\n",
        "fix_data['STATUS'] = np.where(fix_data['MSTUDI']>48, 'TDK TEPAT', 'TEPAT')"
      ],
      "execution_count": 0,
      "outputs": []
    },
    {
      "cell_type": "code",
      "metadata": {
        "id": "tJ_yW1eW2ITD",
        "colab_type": "code",
        "colab": {
          "base_uri": "https://localhost:8080/",
          "height": 589
        },
        "outputId": "f6a13754-95e3-45cd-9020-8ac477e0efc5"
      },
      "source": [
        "fix_data.head(3668)"
      ],
      "execution_count": 16,
      "outputs": [
        {
          "output_type": "execute_result",
          "data": {
            "text/html": [
              "<div>\n",
              "<style scoped>\n",
              "    .dataframe tbody tr th:only-of-type {\n",
              "        vertical-align: middle;\n",
              "    }\n",
              "\n",
              "    .dataframe tbody tr th {\n",
              "        vertical-align: top;\n",
              "    }\n",
              "\n",
              "    .dataframe thead th {\n",
              "        text-align: right;\n",
              "    }\n",
              "</style>\n",
              "<table border=\"1\" class=\"dataframe\">\n",
              "  <thead>\n",
              "    <tr style=\"text-align: right;\">\n",
              "      <th></th>\n",
              "      <th>ANGKATAN</th>\n",
              "      <th>JK</th>\n",
              "      <th>TGLAHIR</th>\n",
              "      <th>TGLULUS</th>\n",
              "      <th>IPK1</th>\n",
              "      <th>IPK2</th>\n",
              "      <th>IPK3</th>\n",
              "      <th>IPK4</th>\n",
              "      <th>SKS</th>\n",
              "      <th>TGLMULAI</th>\n",
              "      <th>MSTUDI</th>\n",
              "      <th>STATUS</th>\n",
              "    </tr>\n",
              "  </thead>\n",
              "  <tbody>\n",
              "    <tr>\n",
              "      <th>0</th>\n",
              "      <td>2013</td>\n",
              "      <td>L</td>\n",
              "      <td>1993-10-14 00:00:00</td>\n",
              "      <td>2016-09-26</td>\n",
              "      <td>3.500000</td>\n",
              "      <td>3.833333</td>\n",
              "      <td>4.000000</td>\n",
              "      <td>3.500000</td>\n",
              "      <td>144</td>\n",
              "      <td>2013-08-01</td>\n",
              "      <td>37.848826</td>\n",
              "      <td>TEPAT</td>\n",
              "    </tr>\n",
              "    <tr>\n",
              "      <th>1</th>\n",
              "      <td>2013</td>\n",
              "      <td>L</td>\n",
              "      <td>1995-05-06 00:00:00</td>\n",
              "      <td>2017-03-25</td>\n",
              "      <td>3.500000</td>\n",
              "      <td>3.750000</td>\n",
              "      <td>3.333333</td>\n",
              "      <td>3.250000</td>\n",
              "      <td>144</td>\n",
              "      <td>2013-08-01</td>\n",
              "      <td>43.762706</td>\n",
              "      <td>TEPAT</td>\n",
              "    </tr>\n",
              "    <tr>\n",
              "      <th>2</th>\n",
              "      <td>2013</td>\n",
              "      <td>L</td>\n",
              "      <td>1995-01-31 00:00:00</td>\n",
              "      <td>2016-09-26</td>\n",
              "      <td>3.166667</td>\n",
              "      <td>3.083333</td>\n",
              "      <td>3.333333</td>\n",
              "      <td>3.250000</td>\n",
              "      <td>144</td>\n",
              "      <td>2013-08-01</td>\n",
              "      <td>37.848826</td>\n",
              "      <td>TEPAT</td>\n",
              "    </tr>\n",
              "    <tr>\n",
              "      <th>3</th>\n",
              "      <td>2013</td>\n",
              "      <td>P</td>\n",
              "      <td>1996-01-22 00:00:00</td>\n",
              "      <td>2016-12-24</td>\n",
              "      <td>3.500000</td>\n",
              "      <td>3.250000</td>\n",
              "      <td>3.500000</td>\n",
              "      <td>3.416667</td>\n",
              "      <td>144</td>\n",
              "      <td>2013-08-01</td>\n",
              "      <td>40.772911</td>\n",
              "      <td>TEPAT</td>\n",
              "    </tr>\n",
              "    <tr>\n",
              "      <th>5</th>\n",
              "      <td>2013</td>\n",
              "      <td>L</td>\n",
              "      <td>1994-12-11 00:00:00</td>\n",
              "      <td>2017-03-25</td>\n",
              "      <td>3.250000</td>\n",
              "      <td>3.166667</td>\n",
              "      <td>3.250000</td>\n",
              "      <td>3.166667</td>\n",
              "      <td>144</td>\n",
              "      <td>2013-08-01</td>\n",
              "      <td>43.762706</td>\n",
              "      <td>TEPAT</td>\n",
              "    </tr>\n",
              "    <tr>\n",
              "      <th>...</th>\n",
              "      <td>...</td>\n",
              "      <td>...</td>\n",
              "      <td>...</td>\n",
              "      <td>...</td>\n",
              "      <td>...</td>\n",
              "      <td>...</td>\n",
              "      <td>...</td>\n",
              "      <td>...</td>\n",
              "      <td>...</td>\n",
              "      <td>...</td>\n",
              "      <td>...</td>\n",
              "      <td>...</td>\n",
              "    </tr>\n",
              "    <tr>\n",
              "      <th>5119</th>\n",
              "      <td>2005</td>\n",
              "      <td>P</td>\n",
              "      <td>1986-12-16 00:00:00</td>\n",
              "      <td>2009-03-25</td>\n",
              "      <td>3.666667</td>\n",
              "      <td>3.357143</td>\n",
              "      <td>3.384615</td>\n",
              "      <td>0.000000</td>\n",
              "      <td>146</td>\n",
              "      <td>2005-08-01</td>\n",
              "      <td>43.762706</td>\n",
              "      <td>TEPAT</td>\n",
              "    </tr>\n",
              "    <tr>\n",
              "      <th>5120</th>\n",
              "      <td>2005</td>\n",
              "      <td>P</td>\n",
              "      <td>1987-03-03 00:00:00</td>\n",
              "      <td>2009-09-12</td>\n",
              "      <td>3.083333</td>\n",
              "      <td>3.428571</td>\n",
              "      <td>2.923077</td>\n",
              "      <td>0.000000</td>\n",
              "      <td>144</td>\n",
              "      <td>2005-08-01</td>\n",
              "      <td>49.380891</td>\n",
              "      <td>TDK TEPAT</td>\n",
              "    </tr>\n",
              "    <tr>\n",
              "      <th>5121</th>\n",
              "      <td>2005</td>\n",
              "      <td>L</td>\n",
              "      <td>1987-02-20 00:00:00</td>\n",
              "      <td>2013-03-25</td>\n",
              "      <td>2.333333</td>\n",
              "      <td>2.500000</td>\n",
              "      <td>1.454545</td>\n",
              "      <td>0.000000</td>\n",
              "      <td>144</td>\n",
              "      <td>2005-08-01</td>\n",
              "      <td>91.763691</td>\n",
              "      <td>TDK TEPAT</td>\n",
              "    </tr>\n",
              "    <tr>\n",
              "      <th>5122</th>\n",
              "      <td>2005</td>\n",
              "      <td>L</td>\n",
              "      <td>1986-02-13 00:00:00</td>\n",
              "      <td>2011-03-25</td>\n",
              "      <td>2.500000</td>\n",
              "      <td>2.642857</td>\n",
              "      <td>2.153846</td>\n",
              "      <td>0.000000</td>\n",
              "      <td>144</td>\n",
              "      <td>2005-08-01</td>\n",
              "      <td>67.746771</td>\n",
              "      <td>TDK TEPAT</td>\n",
              "    </tr>\n",
              "    <tr>\n",
              "      <th>5123</th>\n",
              "      <td>2005</td>\n",
              "      <td>L</td>\n",
              "      <td>1987-05-14 00:00:00</td>\n",
              "      <td>2009-09-12</td>\n",
              "      <td>3.166667</td>\n",
              "      <td>3.214286</td>\n",
              "      <td>3.083333</td>\n",
              "      <td>0.000000</td>\n",
              "      <td>148</td>\n",
              "      <td>2005-08-01</td>\n",
              "      <td>49.380891</td>\n",
              "      <td>TDK TEPAT</td>\n",
              "    </tr>\n",
              "  </tbody>\n",
              "</table>\n",
              "<p>3667 rows × 12 columns</p>\n",
              "</div>"
            ],
            "text/plain": [
              "      ANGKATAN JK              TGLAHIR  ...   TGLMULAI     MSTUDI     STATUS\n",
              "0         2013  L  1993-10-14 00:00:00  ... 2013-08-01  37.848826      TEPAT\n",
              "1         2013  L  1995-05-06 00:00:00  ... 2013-08-01  43.762706      TEPAT\n",
              "2         2013  L  1995-01-31 00:00:00  ... 2013-08-01  37.848826      TEPAT\n",
              "3         2013  P  1996-01-22 00:00:00  ... 2013-08-01  40.772911      TEPAT\n",
              "5         2013  L  1994-12-11 00:00:00  ... 2013-08-01  43.762706      TEPAT\n",
              "...        ... ..                  ...  ...        ...        ...        ...\n",
              "5119      2005  P  1986-12-16 00:00:00  ... 2005-08-01  43.762706      TEPAT\n",
              "5120      2005  P  1987-03-03 00:00:00  ... 2005-08-01  49.380891  TDK TEPAT\n",
              "5121      2005  L  1987-02-20 00:00:00  ... 2005-08-01  91.763691  TDK TEPAT\n",
              "5122      2005  L  1986-02-13 00:00:00  ... 2005-08-01  67.746771  TDK TEPAT\n",
              "5123      2005  L  1987-05-14 00:00:00  ... 2005-08-01  49.380891  TDK TEPAT\n",
              "\n",
              "[3667 rows x 12 columns]"
            ]
          },
          "metadata": {
            "tags": []
          },
          "execution_count": 16
        }
      ]
    },
    {
      "cell_type": "code",
      "metadata": {
        "id": "QUzTn3Sa2ITJ",
        "colab_type": "code",
        "colab": {}
      },
      "source": [
        "# Export data ke Excel\n",
        "fix_data.to_excel(r'FixData.xlsx',index = False)"
      ],
      "execution_count": 0,
      "outputs": []
    },
    {
      "cell_type": "markdown",
      "metadata": {
        "id": "bagxsdTR2ITO",
        "colab_type": "text"
      },
      "source": [
        "## Transformasi data"
      ]
    },
    {
      "cell_type": "code",
      "metadata": {
        "id": "SDjYbEi32ITP",
        "colab_type": "code",
        "colab": {}
      },
      "source": [
        "from sklearn.preprocessing import LabelEncoder\n",
        "number = LabelEncoder()\n",
        "fix_data['JK'] = number.fit_transform(fix_data['JK'])\n",
        "fix_data['STATUS'] = number.fit_transform(fix_data['STATUS'])"
      ],
      "execution_count": 0,
      "outputs": []
    },
    {
      "cell_type": "code",
      "metadata": {
        "id": "lRfH9SU_2ITU",
        "colab_type": "code",
        "colab": {}
      },
      "source": [
        "# Set features dan target\n",
        "features = [\"JK\", \"IPK1\", \"IPK2\", \"IPK3\", \"IPK4\"]\n",
        "target = \"STATUS\""
      ],
      "execution_count": 0,
      "outputs": []
    },
    {
      "cell_type": "code",
      "metadata": {
        "id": "q1vy7fta2ITY",
        "colab_type": "code",
        "colab": {}
      },
      "source": [
        "# Set training data dan testing data: 70% - 30%\n",
        "from sklearn.model_selection import train_test_split\n",
        "features_train, features_test, target_train, target_test = train_test_split(fix_data[features],\n",
        "    fix_data[target],\n",
        "    test_size = 0.30,\n",
        "    random_state = 54)"
      ],
      "execution_count": 0,
      "outputs": []
    },
    {
      "cell_type": "markdown",
      "metadata": {
        "id": "BdKX7Xdi2ITb",
        "colab_type": "text"
      },
      "source": [
        "## Model Naive Bayes"
      ]
    },
    {
      "cell_type": "code",
      "metadata": {
        "id": "Y87gIJBk2ITc",
        "colab_type": "code",
        "colab": {
          "base_uri": "https://localhost:8080/",
          "height": 34
        },
        "outputId": "69166754-0858-4bf9-9949-538b329aa609"
      },
      "source": [
        "from sklearn.naive_bayes import GaussianNB\n",
        "model = GaussianNB()\n",
        "model.fit(features_train, target_train)"
      ],
      "execution_count": 20,
      "outputs": [
        {
          "output_type": "execute_result",
          "data": {
            "text/plain": [
              "GaussianNB(priors=None, var_smoothing=1e-09)"
            ]
          },
          "metadata": {
            "tags": []
          },
          "execution_count": 20
        }
      ]
    },
    {
      "cell_type": "code",
      "metadata": {
        "id": "bslK_6Gr2ITf",
        "colab_type": "code",
        "colab": {}
      },
      "source": [
        "pred = model.predict(features_test)"
      ],
      "execution_count": 0,
      "outputs": []
    },
    {
      "cell_type": "code",
      "metadata": {
        "id": "lZ4f8mY32ITo",
        "colab_type": "code",
        "colab": {}
      },
      "source": [
        "from sklearn.metrics import accuracy_score\n",
        "accuracy = accuracy_score(target_test, pred)"
      ],
      "execution_count": 0,
      "outputs": []
    },
    {
      "cell_type": "code",
      "metadata": {
        "id": "hlwLXXqw2ITs",
        "colab_type": "code",
        "colab": {
          "base_uri": "https://localhost:8080/",
          "height": 34
        },
        "outputId": "e5467d09-e04c-4818-9203-e3740a394911"
      },
      "source": [
        "accuracy"
      ],
      "execution_count": 23,
      "outputs": [
        {
          "output_type": "execute_result",
          "data": {
            "text/plain": [
              "0.633969118982743"
            ]
          },
          "metadata": {
            "tags": []
          },
          "execution_count": 23
        }
      ]
    },
    {
      "cell_type": "code",
      "metadata": {
        "id": "J4YMOp9r2IT0",
        "colab_type": "code",
        "colab": {
          "base_uri": "https://localhost:8080/",
          "height": 142
        },
        "outputId": "c88b3568-921b-4568-a9b3-ffa75882dc73"
      },
      "source": [
        "confusion_matrix = pd.crosstab(target_test, pred, rownames=['Actual'], colnames=['Predicted'])\n",
        "confusion_matrix"
      ],
      "execution_count": 24,
      "outputs": [
        {
          "output_type": "execute_result",
          "data": {
            "text/html": [
              "<div>\n",
              "<style scoped>\n",
              "    .dataframe tbody tr th:only-of-type {\n",
              "        vertical-align: middle;\n",
              "    }\n",
              "\n",
              "    .dataframe tbody tr th {\n",
              "        vertical-align: top;\n",
              "    }\n",
              "\n",
              "    .dataframe thead th {\n",
              "        text-align: right;\n",
              "    }\n",
              "</style>\n",
              "<table border=\"1\" class=\"dataframe\">\n",
              "  <thead>\n",
              "    <tr style=\"text-align: right;\">\n",
              "      <th>Predicted</th>\n",
              "      <th>0</th>\n",
              "      <th>1</th>\n",
              "    </tr>\n",
              "    <tr>\n",
              "      <th>Actual</th>\n",
              "      <th></th>\n",
              "      <th></th>\n",
              "    </tr>\n",
              "  </thead>\n",
              "  <tbody>\n",
              "    <tr>\n",
              "      <th>0</th>\n",
              "      <td>286</td>\n",
              "      <td>310</td>\n",
              "    </tr>\n",
              "    <tr>\n",
              "      <th>1</th>\n",
              "      <td>93</td>\n",
              "      <td>412</td>\n",
              "    </tr>\n",
              "  </tbody>\n",
              "</table>\n",
              "</div>"
            ],
            "text/plain": [
              "Predicted    0    1\n",
              "Actual             \n",
              "0          286  310\n",
              "1           93  412"
            ]
          },
          "metadata": {
            "tags": []
          },
          "execution_count": 24
        }
      ]
    }
  ]
}